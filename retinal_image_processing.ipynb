{
 "cells": [
  {
   "cell_type": "markdown",
   "metadata": {},
   "source": [
    "# 1- Cuting images in circle"
   ]
  },
  {
   "cell_type": "code",
   "execution_count": 25,
   "metadata": {},
   "outputs": [
    {
     "name": "stdout",
     "output_type": "stream",
     "text": [
      "8\n"
     ]
    }
   ],
   "source": [
    "import cv2\n",
    "import numpy as np\n",
    "\n",
    "cimg = cv2.imread('olho.jpg')\n",
    "cimg = cv2.medianBlur(cimg,5)\n",
    "#cimg = cv2.cvtColor(img,cv2.COLOR_GRAY2BGR)\n",
    "output = cv2.cvtColor(cimg, cv2.COLOR_BGR2GRAY)\n",
    "#height,width = cimg.shape\n",
    "#mask = np.zeros((height,width), np.uint8)\n",
    "mask = np.zeros(cimg.shape[:2],np.uint8)\n",
    "counter = 0\n",
    "\n",
    "circles = cv2.HoughCircles(output, cv2.HOUGH_GRADIENT, 1.1, 100)\n",
    "\n",
    "circles = np.uint16(np.around(circles))\n",
    "for i in circles[0,:]:\n",
    "    # draw the outer circle\n",
    "    #cv2.circle(cimg,(i[0],i[1]),i[2],(0,255,0),2)\n",
    "    # draw the center of the circle\n",
    "    #cv2.circle(cimg,(i[0],i[1]),2,(0,0,255),3)\n",
    "    # Draw on mask\n",
    "    cv2.circle(mask,(i[0],i[1]),i[2],(255,255,255),-1)\n",
    "    masked_data = cv2.bitwise_and(cimg, cimg, mask=mask)    \n",
    "    # Apply Threshold\n",
    "    _,thresh = cv2.threshold(mask,1,255,cv2.THRESH_BINARY)\n",
    "    # Find Contour\n",
    "    cnt = cv2.findContours(thresh,cv2.RETR_EXTERNAL,cv2.CHAIN_APPROX_SIMPLE)[0]\n",
    "    #print len(contours)\n",
    "    x,y,w,h = cv2.boundingRect(cnt[0])\n",
    "    # Crop masked_data\n",
    "    crop = masked_data[y:y+h,x:x+w]\n",
    "    # Write Files\n",
    "    cv2.imwrite(\"generated_circles/crop\"+str(counter)+\".jpg\", crop)\n",
    "    counter +=1\n",
    "print(counter)\n",
    "cv2.namedWindow('image',cv2.WINDOW_NORMAL)\n",
    "cv2.imshow(\"image\", cimg)\n",
    "cv2.resizeWindow('image', 600,600)\n",
    "cv2.imwrite(\"generated_circles/circled_img.jpg\", cimg)\n",
    "cv2.waitKey(0)\n",
    "cv2.destroyAllWindows()"
   ]
  },
  {
   "cell_type": "markdown",
   "metadata": {},
   "source": [
    "# 2- Removing glare"
   ]
  },
  {
   "cell_type": "code",
   "execution_count": 26,
   "metadata": {},
   "outputs": [
    {
     "data": {
      "text/plain": [
       "array([[[0, 0, 0],\n",
       "        [0, 0, 0],\n",
       "        [0, 0, 0],\n",
       "        ...,\n",
       "        [0, 0, 0],\n",
       "        [0, 0, 0],\n",
       "        [0, 0, 0]],\n",
       "\n",
       "       [[0, 0, 0],\n",
       "        [0, 0, 0],\n",
       "        [0, 0, 0],\n",
       "        ...,\n",
       "        [0, 0, 0],\n",
       "        [0, 0, 0],\n",
       "        [0, 0, 0]],\n",
       "\n",
       "       [[0, 0, 0],\n",
       "        [0, 0, 0],\n",
       "        [0, 0, 0],\n",
       "        ...,\n",
       "        [0, 0, 0],\n",
       "        [0, 0, 0],\n",
       "        [0, 0, 0]],\n",
       "\n",
       "       ...,\n",
       "\n",
       "       [[0, 0, 0],\n",
       "        [0, 0, 0],\n",
       "        [0, 0, 0],\n",
       "        ...,\n",
       "        [0, 0, 0],\n",
       "        [0, 0, 0],\n",
       "        [0, 0, 0]],\n",
       "\n",
       "       [[0, 0, 0],\n",
       "        [0, 0, 0],\n",
       "        [0, 0, 0],\n",
       "        ...,\n",
       "        [0, 0, 0],\n",
       "        [0, 0, 0],\n",
       "        [0, 0, 0]],\n",
       "\n",
       "       [[0, 0, 0],\n",
       "        [0, 0, 0],\n",
       "        [0, 0, 0],\n",
       "        ...,\n",
       "        [0, 0, 0],\n",
       "        [0, 0, 0],\n",
       "        [0, 0, 0]]], dtype=uint8)"
      ]
     },
     "execution_count": 26,
     "metadata": {},
     "output_type": "execute_result"
    }
   ],
   "source": [
    "import numpy\n",
    "import cv2\n",
    "\n",
    "# prepare mask - square of width 'w' centered at (x,y) which is the center of the bright spots\n",
    "x = 475\n",
    "y = 468\n",
    "w = 100\n",
    "thresh = 0.9\n",
    "\n",
    "def remove_glare(im):\n",
    "   # generate binary image mask - dilated circles around the saturated bright spots at the center\n",
    "    temp = im[y-w:y+w, x-w:x+w,1]  # single channel\n",
    "    ret, temp_mask = cv2.threshold(temp, thresh*256, 255, cv2.THRESH_BINARY)\n",
    "    kernel = numpy.ones((25,25), 'uint8')\n",
    "    temp_mask = cv2.dilate(temp_mask, kernel)\n",
    "\n",
    "    # perform the inpainting...\n",
    "    im[y-w:y+w, x-w:x+w,:] = cv2.inpaint(im[y-w:y+w, x-w:x+w,:], temp_mask, 1, cv2.INPAINT_TELEA)\n",
    "\n",
    "    # return file\n",
    "    cv2.namedWindow('image',cv2.WINDOW_NORMAL)\n",
    "    cv2.imshow(\"image\", im)\n",
    "    cv2.imwrite(\"glare_removed/crop0.jpg\", im)\n",
    "    cv2.resizeWindow('image', 600,600)\n",
    "    cv2.waitKey(0)\n",
    "    return im\n",
    "img = cv2.imread('generated_circles/crop0.jpg')\n",
    "\n",
    "remove_glare(img)"
   ]
  },
  {
   "cell_type": "code",
   "execution_count": null,
   "metadata": {},
   "outputs": [],
   "source": []
  }
 ],
 "metadata": {
  "kernelspec": {
   "display_name": "Python 3",
   "language": "python",
   "name": "python3"
  },
  "language_info": {
   "codemirror_mode": {
    "name": "ipython",
    "version": 3
   },
   "file_extension": ".py",
   "mimetype": "text/x-python",
   "name": "python",
   "nbconvert_exporter": "python",
   "pygments_lexer": "ipython3",
   "version": "3.6.5"
  }
 },
 "nbformat": 4,
 "nbformat_minor": 2
}
